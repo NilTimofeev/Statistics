{
 "cells": [
  {
   "cell_type": "code",
   "execution_count": 16,
   "id": "31b9cfea",
   "metadata": {},
   "outputs": [],
   "source": [
    "import numpy as np"
   ]
  },
  {
   "cell_type": "markdown",
   "id": "77301bb5",
   "metadata": {},
   "source": [
    "# 1\n",
    "Известно, что генеральная совокупность распределена нормально\n",
    "со средним квадратическим отклонением, равным 16.\n",
    "Найти доверительный интервал для оценки математического ожидания a с надежностью 0.95,\n",
    "если выборочная средняя M = 80, а объем выборки n = 256."
   ]
  },
  {
   "cell_type": "markdown",
   "id": "5e529a46",
   "metadata": {},
   "source": [
    "$\\overline{X} \\pm Z_{\\alpha/2} * \\frac{\\sigma}{\\sqrt{n}}$, $\\sigma = 16$, $\\alpha = 0.05$, $\\overline{X} = 80$, $n = 256$, $Z_\\alpha/2 = \\pm 1.96$"
   ]
  },
  {
   "cell_type": "markdown",
   "id": "a07d15a3",
   "metadata": {},
   "source": [
    "$80 \\pm 1.96 * \\frac{16}{\\sqrt{256}}$"
   ]
  },
  {
   "cell_type": "code",
   "execution_count": 24,
   "id": "f114fcd1",
   "metadata": {},
   "outputs": [
    {
     "name": "stdout",
     "output_type": "stream",
     "text": [
      "[78.04, 81.96]\n"
     ]
    }
   ],
   "source": [
    "print([80-1.96, 80+1.96])"
   ]
  },
  {
   "cell_type": "markdown",
   "id": "93dd4b85",
   "metadata": {},
   "source": [
    "# 2\n",
    "В результате 10 независимых измерений некоторой величины X, выполненных с одинаковой точностью,\n",
    "получены опытные данные:\n",
    "6.9, 6.1, 6.2, 6.8, 7.5, 6.3, 6.4, 6.9, 6.7, 6.1\n",
    "Предполагая, что результаты измерений подчинены нормальному закону распределения вероятностей,\n",
    "оценить истинное значение величины X при помощи доверительного интервала, покрывающего это\n",
    "значение с доверительной вероятностью 0,95."
   ]
  },
  {
   "cell_type": "markdown",
   "id": "23066604",
   "metadata": {},
   "source": [
    "$\\overline{X} \\pm t_{\\alpha/2} * \\frac{\\sigma_н}{\\sqrt{n}}$, $\\alpha = 0.05$, $n = 10 - 1 = 9$, $Z_\\alpha/2 = \\pm 2,262$"
   ]
  },
  {
   "cell_type": "code",
   "execution_count": 18,
   "id": "435271fb",
   "metadata": {},
   "outputs": [
    {
     "data": {
      "text/plain": [
       "6.590000000000001"
      ]
     },
     "execution_count": 18,
     "metadata": {},
     "output_type": "execute_result"
    }
   ],
   "source": [
    "data = np.array([6.9, 6.1, 6.2, 6.8, 7.5, 6.3, 6.4, 6.9, 6.7, 6.1])\n",
    "X_mean = data.mean()\n",
    "X_mean"
   ]
  },
  {
   "cell_type": "code",
   "execution_count": 25,
   "id": "4abc9935",
   "metadata": {
    "scrolled": true
   },
   "outputs": [
    {
     "data": {
      "text/plain": [
       "0.42766809560686203"
      ]
     },
     "execution_count": 25,
     "metadata": {},
     "output_type": "execute_result"
    }
   ],
   "source": [
    "sigma = data.std()\n",
    "sigma"
   ]
  },
  {
   "cell_type": "markdown",
   "id": "8a9db92c",
   "metadata": {},
   "source": [
    "$6.59 \\pm 2.262 * \\frac{0.42766809560686203}{\\sqrt{9}}$"
   ]
  },
  {
   "cell_type": "code",
   "execution_count": 26,
   "id": "411ba8e5",
   "metadata": {},
   "outputs": [
    {
     "name": "stdout",
     "output_type": "stream",
     "text": [
      "[6.2675382559124255, 6.912461744087574]\n"
     ]
    }
   ],
   "source": [
    "print([6.59 - 2.262*0.42766809560686203/3, 6.59 + 2.262*0.42766809560686203/3])"
   ]
  },
  {
   "cell_type": "markdown",
   "id": "6b3056cb",
   "metadata": {},
   "source": [
    "# 3\n",
    "Проведтите тест гипотезы. Утверждается, что шарики для подшипников, изготовленные автоматическим станком, имеют средний диаметр 17 мм.\n",
    "Используя односторонний критерий с α=0,05, проверить эту гипотезу, если в выборке из n=100 шариков средний диаметр\n",
    "оказался равным 17.5 мм, а дисперсия известна и равна 4 кв. мм."
   ]
  },
  {
   "cell_type": "markdown",
   "id": "2dd3f3f4",
   "metadata": {},
   "source": [
    "H0: 17.5 = 17\n",
    "H1: 17.5 > 17"
   ]
  },
  {
   "cell_type": "markdown",
   "id": "9297b36a",
   "metadata": {},
   "source": [
    "$Z_н = \\frac{\\overline{X} - \\mu}{\\sigma / \\sqrt{n}} = \\frac{17.5-17}{2/10}$, $Z_т = 1.645$"
   ]
  },
  {
   "cell_type": "code",
   "execution_count": 27,
   "id": "51c3506e",
   "metadata": {},
   "outputs": [
    {
     "data": {
      "text/plain": [
       "2.5"
      ]
     },
     "execution_count": 27,
     "metadata": {},
     "output_type": "execute_result"
    }
   ],
   "source": [
    "(17.5 - 17) / 0.2"
   ]
  },
  {
   "cell_type": "markdown",
   "id": "d4810b48",
   "metadata": {},
   "source": [
    "2.5 > 1.645, поэтому отвергаем нулевую гипотезу. Первая гипотеза верна при уровне статистической значимости 5%"
   ]
  },
  {
   "cell_type": "markdown",
   "id": "3d5a14c9",
   "metadata": {},
   "source": [
    "# 4\n",
    "Проведите тест гипотезы. Продавец утверждает, что средний вес пачки печенья составляет 200 г.\n",
    "Из партии извлечена выборка из 10 пачек. Вес каждой пачки составляет:\n",
    "202, 203, 199, 197, 195, 201, 200, 204, 194, 190.\n",
    "Известно, что их веса распределены нормально.\n",
    "Верно ли утверждение продавца, если учитывать, что доверительная вероятность равна 99%? (Провести двусторонний тест.)"
   ]
  },
  {
   "cell_type": "markdown",
   "id": "5f6e3979",
   "metadata": {},
   "source": [
    "$t_н = \\frac{\\overline{X} - \\mu}{\\sigma_n / \\sqrt{n}}$, $\\alpha = 0.01$"
   ]
  },
  {
   "cell_type": "code",
   "execution_count": 29,
   "id": "adf35a4d",
   "metadata": {},
   "outputs": [
    {
     "data": {
      "text/plain": [
       "(198.5, 4.224926034855522)"
      ]
     },
     "execution_count": 29,
     "metadata": {},
     "output_type": "execute_result"
    }
   ],
   "source": [
    "data = np.array([202, 203, 199, 197, 195, 201, 200, 204, 194, 190])\n",
    "mean = data.mean()\n",
    "sigma = data.std()\n",
    "mean, sigma"
   ]
  },
  {
   "cell_type": "markdown",
   "id": "c7c4b0ae",
   "metadata": {},
   "source": [
    "$H0: 200 = 198.5$,\n",
    "$H1: 200 \\ne 198.5$"
   ]
  },
  {
   "cell_type": "code",
   "execution_count": 31,
   "id": "a452b9c9",
   "metadata": {},
   "outputs": [
    {
     "data": {
      "text/plain": [
       "1.0651074037450894"
      ]
     },
     "execution_count": 31,
     "metadata": {},
     "output_type": "execute_result"
    }
   ],
   "source": [
    "(200 - 198.5) / (sigma/3)"
   ]
  },
  {
   "cell_type": "markdown",
   "id": "2eca6d7c",
   "metadata": {},
   "source": [
    "$t_т  = \\pm3.250$"
   ]
  },
  {
   "cell_type": "markdown",
   "id": "6aa49a6c",
   "metadata": {},
   "source": [
    "$t_н \\in [-3.250; 3.250]$, поэтому нулевая гипотеза верна при уровне статистической значимости 1%"
   ]
  }
 ],
 "metadata": {
  "kernelspec": {
   "display_name": "Python 3 (ipykernel)",
   "language": "python",
   "name": "python3"
  },
  "language_info": {
   "codemirror_mode": {
    "name": "ipython",
    "version": 3
   },
   "file_extension": ".py",
   "mimetype": "text/x-python",
   "name": "python",
   "nbconvert_exporter": "python",
   "pygments_lexer": "ipython3",
   "version": "3.9.7"
  }
 },
 "nbformat": 4,
 "nbformat_minor": 5
}
