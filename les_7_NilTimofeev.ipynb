{
 "cells": [
  {
   "cell_type": "markdown",
   "id": "35b49fbd",
   "metadata": {},
   "source": [
    "# 1\n",
    "Даны значения величины заработной платы заемщиков банка (zp) и значения их поведенческого кредитного скоринга (ks): zp = [35, 45, 190, 200, 40, 70, 54, 150, 120, 110], ks = [401, 574, 874, 919, 459, 739, 653, 902, 746, 832]. Используя математические операции, посчитать коэффициенты линейной регрессии, приняв за X заработную плату (то есть, zp - признак), а за y - значения скорингового балла (то есть, ks - целевая переменная). Произвести расчет как с использованием intercept, так и без."
   ]
  },
  {
   "cell_type": "code",
   "execution_count": 1,
   "id": "6f0ad383",
   "metadata": {},
   "outputs": [],
   "source": [
    "import numpy as np"
   ]
  },
  {
   "cell_type": "code",
   "execution_count": 2,
   "id": "daf0a739",
   "metadata": {},
   "outputs": [],
   "source": [
    "X = np.array([35, 45, 190, 200, 40, 70, 54, 150, 120, 110])\n",
    "y = np.array([401, 574, 874, 919, 459, 739, 653, 902, 746, 832])"
   ]
  },
  {
   "cell_type": "code",
   "execution_count": 3,
   "id": "7e962dc5",
   "metadata": {},
   "outputs": [],
   "source": [
    "X = X.reshape(-1, 1)\n",
    "y = y.reshape(-1, 1)"
   ]
  },
  {
   "cell_type": "markdown",
   "id": "7a4c73c5",
   "metadata": {},
   "source": [
    "##### Без intercept:"
   ]
  },
  {
   "cell_type": "code",
   "execution_count": 4,
   "id": "859fccdc",
   "metadata": {},
   "outputs": [
    {
     "data": {
      "text/plain": [
       "array([[5.88982042]])"
      ]
     },
     "execution_count": 4,
     "metadata": {},
     "output_type": "execute_result"
    }
   ],
   "source": [
    "B = np.dot(np.linalg.inv(np.dot(X.T, X)), X.T@y)\n",
    "B"
   ]
  },
  {
   "cell_type": "markdown",
   "id": "d55b3817",
   "metadata": {},
   "source": [
    "##### С intercept:"
   ]
  },
  {
   "cell_type": "code",
   "execution_count": 5,
   "id": "181cc219",
   "metadata": {},
   "outputs": [
    {
     "data": {
      "text/plain": [
       "(444.1773573243596, 2.620538882402765)"
      ]
     },
     "execution_count": 5,
     "metadata": {},
     "output_type": "execute_result"
    }
   ],
   "source": [
    "b = ((X * y).mean() - X.mean() * y.mean()) / ((X**2).mean() - X.mean()**2)\n",
    "a = y.mean() - b * X.mean()\n",
    "a, b"
   ]
  },
  {
   "cell_type": "code",
   "execution_count": 6,
   "id": "bfe7b13e",
   "metadata": {},
   "outputs": [],
   "source": [
    "X = np.hstack([np.ones((X.size, 1)), X])"
   ]
  },
  {
   "cell_type": "code",
   "execution_count": 7,
   "id": "0842e20f",
   "metadata": {},
   "outputs": [
    {
     "data": {
      "text/plain": [
       "array([[444.17735732],\n",
       "       [  2.62053888]])"
      ]
     },
     "execution_count": 7,
     "metadata": {},
     "output_type": "execute_result"
    }
   ],
   "source": [
    "B = np.dot(np.linalg.inv(np.dot(X.T, X)), X.T@y)\n",
    "B"
   ]
  },
  {
   "cell_type": "markdown",
   "id": "fe88ca99",
   "metadata": {},
   "source": [
    "# 2\n",
    "Посчитать коэффициент линейной регрессии при заработной плате (zp), используя градиентный спуск (без intercept)."
   ]
  },
  {
   "cell_type": "code",
   "execution_count": 8,
   "id": "b08a439d",
   "metadata": {},
   "outputs": [],
   "source": [
    "def mse_(B1, X, y, n):\n",
    "    return np.sum((B1 * X - y) ** 2) / n"
   ]
  },
  {
   "cell_type": "code",
   "execution_count": 9,
   "id": "3edb4925",
   "metadata": {},
   "outputs": [],
   "source": [
    "X = np.array([35, 45, 190, 200, 40, 70, 54, 150, 120, 110])\n",
    "y = np.array([401, 574, 874, 919, 459, 739, 653, 902, 746, 832])\n",
    "n = X.size"
   ]
  },
  {
   "cell_type": "code",
   "execution_count": 10,
   "id": "b8cd90d4",
   "metadata": {
    "scrolled": true
   },
   "outputs": [
    {
     "name": "stdout",
     "output_type": "stream",
     "text": [
      "Iteration: 0, B1 = -2.755057, mse = 1086095.982430322\n",
      "Iteration: 100, B1 = 5.3609564343200065, mse = 60370.13369697449\n",
      "Iteration: 200, B1 = 5.857466333209685, mse = 56531.279580685565\n",
      "Iteration: 300, B1 = 5.887841107930114, mse = 56516.91238798555\n",
      "Iteration: 400, B1 = 5.889699332592663, mse = 56516.85861771457\n",
      "Iteration: 500, B1 = 5.8898130124118016, mse = 56516.85841647539\n",
      "Iteration: 600, B1 = 5.8898199669537, mse = 56516.85841572224\n",
      "Iteration: 700, B1 = 5.889820392408749, mse = 56516.85841571943\n",
      "Iteration: 800, B1 = 5.889820418436633, mse = 56516.85841571941\n",
      "Iteration: 900, B1 = 5.889820420028928, mse = 56516.85841571941\n"
     ]
    }
   ],
   "source": [
    "alpha = 1e-6\n",
    "B1 = -3\n",
    "\n",
    "for i in range(1000):\n",
    "    B1 -= alpha * (2 / n) * np.sum((B1 * X - y) * X)\n",
    "    if i % 100 == 0:\n",
    "        print(f'Iteration: {i}, B1 = {B1}, mse = {mse_(B1, X, y, n)}')"
   ]
  },
  {
   "cell_type": "markdown",
   "id": "8f38da0f",
   "metadata": {},
   "source": [
    "# 3\n",
    "Произвести вычисления как в пункте 2, но с вычислением intercept. Учесть, что изменение коэффициентов должно производиться\n",
    "на каждом шаге одновременно (то есть изменение одного коэффициента не должно влиять на изменение другого во время одной итерации)."
   ]
  },
  {
   "cell_type": "code",
   "execution_count": 11,
   "id": "906bc0db",
   "metadata": {},
   "outputs": [],
   "source": [
    "def mse_(B0, B1, X, y, n):\n",
    "    return np.sum((B0 + B1 * X - y) ** 2) / n"
   ]
  },
  {
   "cell_type": "code",
   "execution_count": 12,
   "id": "28c7d0a2",
   "metadata": {},
   "outputs": [
    {
     "name": "stdout",
     "output_type": "stream",
     "text": [
      "Iteration: 0, B0 = -2.979658, B1 = -0.5445272535759997, mse = 631447.9736046855\n",
      "Iteration: 90000, B0 = 160.95750899374787, B1 = 4.7051516098763, mse = 26817.760033244394\n",
      "Iteration: 180000, B0 = 264.77279704989763, B1 = 3.9410290666866254, mse = 14634.872048864374\n",
      "Iteration: 270000, B0 = 330.5342054160916, B1 = 3.4569984817372035, mse = 9746.437152613005\n",
      "Iteration: 360000, B0 = 372.19052512852437, B1 = 3.1503911067100265, mse = 7784.932149404737\n",
      "Iteration: 450000, B0 = 398.577566025236, B1 = 2.956171804574681, mse = 6997.870040720254\n",
      "Iteration: 540000, B0 = 415.2923390078595, B1 = 2.833144309496958, mse = 6682.058068834476\n",
      "Iteration: 630000, B0 = 425.88024982947513, B1 = 2.755212999999434, mse = 6555.337190665031\n",
      "Iteration: 720000, B0 = 432.58712258706083, B1 = 2.705847701647576, mse = 6504.489906858356\n",
      "Iteration: 810000, B0 = 436.83556620774635, B1 = 2.6745774368838706, mse = 6484.087220987911\n",
      "Iteration: 900000, B0 = 439.5267270289628, B1 = 2.6547694038923506, mse = 6475.900557717757\n",
      "Iteration: 990000, B0 = 441.23143284885987, B1 = 2.642222079014868, mse = 6472.615624747419\n",
      "Iteration: 1080000, B0 = 442.31127241454755, B1 = 2.6342740227062076, mse = 6471.297531616745\n",
      "Iteration: 1170000, B0 = 442.99529277396306, B1 = 2.6292393559782457, mse = 6470.768641220248\n",
      "Iteration: 1260000, B0 = 443.42858292832295, B1 = 2.6260501650518617, mse = 6470.5564217306\n",
      "Iteration: 1350000, B0 = 443.7030489661733, B1 = 2.6240299839129535, mse = 6470.471267770375\n",
      "Iteration: 1440000, B0 = 443.8769084577431, B1 = 2.6227503076789085, mse = 6470.437099386709\n",
      "Iteration: 1530000, B0 = 443.987039106487, B1 = 2.6219397015246804, mse = 6470.423389179472\n",
      "Iteration: 1620000, B0 = 444.056800956611, B1 = 2.6214262260690653, mse = 6470.417887901321\n",
      "Iteration: 1710000, B0 = 444.1009913412799, B1 = 2.621100966950202, mse = 6470.415680490392\n",
      "Iteration: 1800000, B0 = 444.1289835762164, B1 = 2.6208949327701716, mse = 6470.414794757497\n",
      "Iteration: 1890000, B0 = 444.1467151533881, B1 = 2.6207644211846732, mse = 6470.414439353457\n",
      "Iteration: 1980000, B0 = 444.15794715504853, B1 = 2.620681749105882, mse = 6470.414296746097\n",
      "Iteration: 2070000, B0 = 444.1650620247516, B1 = 2.62062938078486, mse = 6470.414239524296\n",
      "Iteration: 2160000, B0 = 444.16956891252323, B1 = 2.62059620826653, mse = 6470.414216563811\n",
      "Iteration: 2250000, B0 = 444.1724237838293, B1 = 2.6205751952581022, mse = 6470.414207350817\n",
      "Iteration: 2340000, B0 = 444.1742321914486, B1 = 2.620561884646004, mse = 6470.414203654071\n",
      "Iteration: 2430000, B0 = 444.17537772053487, B1 = 2.6205534530882333, mse = 6470.414202170731\n",
      "Iteration: 2520000, B0 = 444.17610335167535, B1 = 2.6205481121493133, mse = 6470.414201575531\n",
      "Iteration: 2610000, B0 = 444.17656300002494, B1 = 2.620544728951401, mse = 6470.41420133671\n"
     ]
    }
   ],
   "source": [
    "alpha = 1e-5\n",
    "B1 = -3\n",
    "B0 = -3\n",
    "\n",
    "for i in range(2700000):\n",
    "    B0 -= alpha * (2 / n) * np.sum(B0 + B1 * X - y)\n",
    "    B1 -= alpha * (2 / n) * np.sum((B0 + B1 * X - y) * X)\n",
    "    if i % 90000 == 0:\n",
    "        print(f'Iteration: {i}, B0 = {B0}, B1 = {B1}, mse = {mse_(B0, B1, X, y, n)}')"
   ]
  }
 ],
 "metadata": {
  "kernelspec": {
   "display_name": "Python 3 (ipykernel)",
   "language": "python",
   "name": "python3"
  },
  "language_info": {
   "codemirror_mode": {
    "name": "ipython",
    "version": 3
   },
   "file_extension": ".py",
   "mimetype": "text/x-python",
   "name": "python",
   "nbconvert_exporter": "python",
   "pygments_lexer": "ipython3",
   "version": "3.9.7"
  }
 },
 "nbformat": 4,
 "nbformat_minor": 5
}
